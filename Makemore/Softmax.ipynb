{
 "cells": [
  {
   "cell_type": "code",
   "execution_count": 1,
   "id": "5886363a",
   "metadata": {},
   "outputs": [],
   "source": [
    "import torch\n",
    "import torch.nn.functional as F\n",
    "import matplotlib.pyplot as plt"
   ]
  },
  {
   "cell_type": "code",
   "execution_count": 2,
   "id": "ae0f9427",
   "metadata": {},
   "outputs": [],
   "source": [
    "# understanding softmax\n",
    "\n",
    "g = torch.Generator().manual_seed(2147483647)"
   ]
  },
  {
   "cell_type": "code",
   "execution_count": 8,
   "id": "b33d7dd3",
   "metadata": {},
   "outputs": [
    {
     "name": "stdout",
     "output_type": "stream",
     "text": [
      "tensor([7, 1, 8, 1, 9, 0, 6, 3, 6, 4])\n"
     ]
    }
   ],
   "source": [
    "# lets generate 10 number between 1 and 100, \n",
    "# lets assume they are the counts of occurance \n",
    "# of some event corrsponding to the position indicated by index i\n",
    "inputs = torch.randint(0, 10, (10,), generator=g)\n",
    "print(inputs)\n",
    "# so here the first event E1 occured 19 times and second occured 63 times\n",
    "# lets do a simple normalization by scaling down by a factor (maximum value in the list)\n",
    "inputs = inputs / inputs.max()"
   ]
  },
  {
   "cell_type": "code",
   "execution_count": 9,
   "id": "ae091ea9",
   "metadata": {},
   "outputs": [
    {
     "data": {
      "text/plain": [
       "tensor([0.7778, 0.1111, 0.8889, 0.1111, 1.0000, 0.0000, 0.6667, 0.3333, 0.6667,\n",
       "        0.4444])"
      ]
     },
     "execution_count": 9,
     "metadata": {},
     "output_type": "execute_result"
    }
   ],
   "source": [
    "# the scaled down inputs are the following \n",
    "inputs"
   ]
  },
  {
   "cell_type": "code",
   "execution_count": 10,
   "id": "88040ccf",
   "metadata": {},
   "outputs": [
    {
     "name": "stdout",
     "output_type": "stream",
     "text": [
      "The scaled down counts are  tensor([2.1766, 1.1175, 2.4324, 1.1175, 2.7183, 1.0000, 1.9477, 1.3956, 1.9477,\n",
      "        1.5596])\n",
      "Probabilities are\n",
      "tensor([0.1250, 0.0642, 0.1397, 0.0642, 0.1561, 0.0574, 0.1119, 0.0801, 0.1119,\n",
      "        0.0896])\n",
      "Probabilities using softmax function\n",
      "tensor([0.1250, 0.0642, 0.1397, 0.0642, 0.1561, 0.0574, 0.1119, 0.0801, 0.1119,\n",
      "        0.0896])\n"
     ]
    }
   ],
   "source": [
    "# Lets say the inputs given here are logarithms of some actual counts then we get the actual counts by exponentiating\n",
    "# the inputs\n",
    "counts = inputs.exp()\n",
    "print(\"The scaled down counts are \", counts)\n",
    "probs = counts / counts.sum()\n",
    "print(\"Probabilities are\")\n",
    "print(probs)\n",
    "\n",
    "# lets use the softmax function on the inputs\n",
    "print(\"Probabilities using softmax function\")\n",
    "probs2 = inputs.softmax(dim=0)\n",
    "print(probs2)\n",
    "\n",
    "# Here you can see probability calculated by softmax is exactly same as probs, therefore we can use softmax function to\n",
    "# easily calculate probabilities of number of occurances of n number of counts. Softmax will take care of scaling down \n",
    "# exponentiating and calculating probabilities."
   ]
  },
  {
   "cell_type": "code",
   "execution_count": 132,
   "id": "2924b568",
   "metadata": {},
   "outputs": [
    {
     "name": "stdout",
     "output_type": "stream",
     "text": [
      "tensor([-1.0000, -0.7778, -0.5556, -0.3333, -0.1111,  0.1111,  0.3333,  0.5556,\n",
      "         0.7778,  1.0000])\n"
     ]
    }
   ],
   "source": [
    "# in a real scenario the inputs may contain -ve numbers and then we won't be able to say that the inputs are \n",
    "# number of occurance of corresponding events. This is because number of occurances can't be -ve.\n",
    "inputs2 = torch.linspace(-1, 1, 10)\n",
    "print(inputs2)"
   ]
  },
  {
   "cell_type": "code",
   "execution_count": 133,
   "id": "7bd7369a",
   "metadata": {},
   "outputs": [
    {
     "data": {
      "text/plain": [
       "tensor([0.3679, 0.4594, 0.5738, 0.7165, 0.8948, 1.1175, 1.3956, 1.7429, 2.1766,\n",
       "        2.7183])"
      ]
     },
     "execution_count": 133,
     "metadata": {},
     "output_type": "execute_result"
    }
   ],
   "source": [
    "# But if we say that these inputs are logarithm of actual counts \n",
    "# then the actual counts will be exponents of these values\n",
    "inputs2.exp()"
   ]
  },
  {
   "cell_type": "markdown",
   "id": "bf4fe95b",
   "metadata": {},
   "source": [
    "But a simple question can be how do we get -ve value for a +ve count ? A count will not be a fraction therefore log can't be -ve. For this problem you can imagine these fractional values `(ie, inputs2.exp())` as relative strength actual counts, they are say a scale down version of actual counts. Lets say we divide each count by largest count in the sequence we get the relative strength with respect to the largest value. Therefore we get fractional values for each value in the list.\n",
    "\n",
    "`The actual probability isn't affected whther you scale up or down. So the inputs we say are logarithm of  scale down version of actual counts aka logits.`\n",
    "\n",
    "From the following graph we can see the graph of exponent function."
   ]
  },
  {
   "cell_type": "code",
   "execution_count": 92,
   "id": "6373586a",
   "metadata": {},
   "outputs": [
    {
     "data": {
      "text/plain": [
       "[<matplotlib.lines.Line2D at 0x15a01b6d0>]"
      ]
     },
     "execution_count": 92,
     "metadata": {},
     "output_type": "execute_result"
    },
    {
     "data": {
      "image/png": "[encoded data removed]",
      "text/plain": [
       "<Figure size 640x480 with 1 Axes>"
      ]
     },
     "metadata": {},
     "output_type": "display_data"
    }
   ],
   "source": [
    "xs = torch.arange(-2, 8, 0.001)\n",
    "ys = xs.exp()\n",
    "plt.plot(xs, ys)"
   ]
  },
  {
   "cell_type": "markdown",
   "id": "186d6fe2",
   "metadata": {},
   "source": [
    "Now we have these scaled down counts and we can calculate the probability using softmax as follows."
   ]
  },
  {
   "cell_type": "code",
   "execution_count": 137,
   "id": "788e2e22",
   "metadata": {},
   "outputs": [
    {
     "name": "stdout",
     "output_type": "stream",
     "text": [
      "tensor([0.0302, 0.0378, 0.0472, 0.0589, 0.0736, 0.0919, 0.1147, 0.1433, 0.1789,\n",
      "        0.2235])\n",
      "tensor(1.0000)\n"
     ]
    }
   ],
   "source": [
    "outputs = F.softmax(inputs2, dim=0)\n",
    "print(outputs)\n",
    "print(outputs.sum())"
   ]
  },
  {
   "cell_type": "code",
   "execution_count": 182,
   "id": "55f089ca",
   "metadata": {},
   "outputs": [
    {
     "name": "stdout",
     "output_type": "stream",
     "text": [
      "Exponents= tensor([  1.0000,   2.7183,   7.3891,  20.0855,  54.5981, 148.4132,      inf])\n",
      "Probs= tensor([0., 0., 0., 0., 0., 0., nan])\n",
      "tensor([3.7835e-44, 1.0089e-43, 2.7465e-43, 7.4689e-43, 2.0305e-42, 5.5211e-42,\n",
      "        1.0000e+00])\n"
     ]
    }
   ],
   "source": [
    "# manual softmax \n",
    "t = torch.tensor([0,1,2,3,4,5,100]).float()\n",
    "exp = t.exp()\n",
    "print(\"Exponents=\", exp)\n",
    "print(\"Probs=\", exp/exp.sum())\n",
    "\n",
    "# the softmax function also avoid nan values becuase it offsets and avoid the infinite values in the exponents.\n",
    "print(t.softmax(dim=0))"
   ]
  }
 ],
 "metadata": {
  "kernelspec": {
   "display_name": "Python 3 (ipykernel)",
   "language": "python",
   "name": "python3"
  },
  "language_info": {
   "codemirror_mode": {
    "name": "ipython",
    "version": 3
   },
   "file_extension": ".py",
   "mimetype": "text/x-python",
   "name": "python",
   "nbconvert_exporter": "python",
   "pygments_lexer": "ipython3",
   "version": "3.10.13"
  }
 },
 "nbformat": 4,
 "nbformat_minor": 5
}
