{
 "cells": [
  {
   "cell_type": "code",
   "execution_count": 1,
   "id": "bc7fc57a",
   "metadata": {},
   "outputs": [],
   "source": [
    "import torch\n",
    "import torch.nn.functional as F\n",
    "import matplotlib.pyplot as plt\n",
    "import numpy as np"
   ]
  },
  {
   "cell_type": "code",
   "execution_count": 9,
   "id": "c52f3ab9",
   "metadata": {},
   "outputs": [],
   "source": [
    "g = torch.Generator().manual_seed(2147483647)"
   ]
  },
  {
   "cell_type": "code",
   "execution_count": 43,
   "id": "47e42f6f",
   "metadata": {},
   "outputs": [
    {
     "name": "stdout",
     "output_type": "stream",
     "text": [
      "tensor([[0.5923, 0.5661, 0.2479, 0.4539, 0.9502, 0.7067, 0.2358, 0.4980, 0.6283,\n",
      "         0.3402],\n",
      "        [0.3732, 0.3962, 0.6823, 0.6328, 0.5330, 0.6329, 0.6711, 0.7653, 0.9225,\n",
      "         0.7785],\n",
      "        [0.2943, 0.5090, 0.6940, 0.8191, 0.3802, 0.2272, 0.4399, 0.2770, 0.4106,\n",
      "         0.8971],\n",
      "        [0.2459, 0.4062, 0.4982, 0.1753, 0.8517, 0.5358, 0.6007, 0.6299, 0.5571,\n",
      "         0.6269],\n",
      "        [0.0884, 0.4909, 0.9938, 0.7684, 0.2279, 0.1594, 0.5799, 0.9052, 0.3355,\n",
      "         0.8380],\n",
      "        [0.9756, 0.4199, 0.5294, 0.0842, 0.5996, 0.4785, 0.8831, 0.8542, 0.7359,\n",
      "         0.9355],\n",
      "        [0.7550, 0.7652, 0.7275, 0.2114, 0.2137, 0.4809, 0.8961, 0.8411, 0.5099,\n",
      "         0.3407],\n",
      "        [0.9408, 0.5673, 0.3601, 0.8327, 0.8528, 0.2966, 0.0572, 0.6357, 0.0608,\n",
      "         0.4217],\n",
      "        [0.4603, 0.9737, 0.9947, 0.9554, 0.4537, 0.1554, 0.4776, 0.1215, 0.4096,\n",
      "         0.2550],\n",
      "        [0.3343, 0.8172, 0.9651, 0.4759, 0.7801, 0.1812, 0.1586, 0.9386, 0.8283,\n",
      "         0.2385]])\n",
      "tensor([0, 1, 2, 3, 4, 5, 6, 7, 8, 9])\n"
     ]
    }
   ],
   "source": [
    "logits = torch.rand((10,10), generator=g) # inputs\n",
    "labels = torch.arange(10)\n",
    "print(logits)\n",
    "print(labels)"
   ]
  },
  {
   "cell_type": "code",
   "execution_count": 47,
   "id": "646f2339",
   "metadata": {},
   "outputs": [
    {
     "name": "stdout",
     "output_type": "stream",
     "text": [
      "tensor([[0.1049, 0.1022, 0.0744, 0.0914, 0.1501, 0.1177, 0.0735, 0.0955, 0.1088,\n",
      "         0.0816],\n",
      "        [0.0757, 0.0775, 0.1031, 0.0981, 0.0888, 0.0981, 0.1020, 0.1120, 0.1311,\n",
      "         0.1135],\n",
      "        [0.0798, 0.0989, 0.1190, 0.1348, 0.0869, 0.0746, 0.0923, 0.0784, 0.0896,\n",
      "         0.1458],\n",
      "        [0.0753, 0.0884, 0.0969, 0.0701, 0.1380, 0.1006, 0.1073, 0.1105, 0.1028,\n",
      "         0.1102],\n",
      "        [0.0608, 0.0909, 0.1502, 0.1199, 0.0698, 0.0652, 0.0993, 0.1375, 0.0778,\n",
      "         0.1286],\n",
      "        [0.1340, 0.0769, 0.0858, 0.0549, 0.0920, 0.0815, 0.1221, 0.1187, 0.1054,\n",
      "         0.1287],\n",
      "        [0.1164, 0.1176, 0.1132, 0.0676, 0.0677, 0.0885, 0.1340, 0.1269, 0.0911,\n",
      "         0.0769],\n",
      "        [0.1482, 0.1020, 0.0829, 0.1330, 0.1357, 0.0778, 0.0613, 0.1093, 0.0615,\n",
      "         0.0882],\n",
      "        [0.0889, 0.1486, 0.1518, 0.1459, 0.0884, 0.0656, 0.0905, 0.0634, 0.0845,\n",
      "         0.0724],\n",
      "        [0.0753, 0.1220, 0.1414, 0.0867, 0.1175, 0.0646, 0.0631, 0.1377, 0.1233,\n",
      "         0.0684]])\n",
      "tensor([1.0000, 1.0000, 1.0000, 1.0000, 1.0000, 1.0000, 1.0000, 1.0000, 1.0000,\n",
      "        1.0000])\n"
     ]
    }
   ],
   "source": [
    "probs = logits.softmax(dim=1)\n",
    "print(probs)\n",
    "print(probs.sum(dim=1))"
   ]
  },
  {
   "cell_type": "code",
   "execution_count": 49,
   "id": "d7e8e422",
   "metadata": {},
   "outputs": [
    {
     "name": "stdout",
     "output_type": "stream",
     "text": [
      "tensor(2.4144)\n"
     ]
    }
   ],
   "source": [
    "loss = F.cross_entropy(logits, labels)\n",
    "print(loss)"
   ]
  },
  {
   "cell_type": "code",
   "execution_count": 51,
   "id": "07628b4f",
   "metadata": {},
   "outputs": [
    {
     "data": {
      "text/plain": [
       "tensor(2.4144)"
      ]
     },
     "execution_count": 51,
     "metadata": {},
     "output_type": "execute_result"
    }
   ],
   "source": [
    "# cross entrophy is actually -ve average log likelihood of the logits\n",
    "-probs[torch.arange(10), labels].log().mean()"
   ]
  }
 ],
 "metadata": {
  "kernelspec": {
   "display_name": "Python 3 (ipykernel)",
   "language": "python",
   "name": "python3"
  },
  "language_info": {
   "codemirror_mode": {
    "name": "ipython",
    "version": 3
   },
   "file_extension": ".py",
   "mimetype": "text/x-python",
   "name": "python",
   "nbconvert_exporter": "python",
   "pygments_lexer": "ipython3",
   "version": "3.10.13"
  }
 },
 "nbformat": 4,
 "nbformat_minor": 5
}
